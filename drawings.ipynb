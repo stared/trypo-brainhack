{
 "cells": [
  {
   "cell_type": "markdown",
   "metadata": {},
   "source": [
    "https://github.com/stared/keras-sequential-ascii"
   ]
  },
  {
   "cell_type": "code",
   "execution_count": 15,
   "metadata": {},
   "outputs": [],
   "source": [
    "from keras.models import Sequential\n",
    "from keras.layers import Flatten, Conv2D, Dense, MaxPool2D, GlobalAveragePooling2D, Dropout\n",
    "\n",
    "from keras_sequential_ascii import sequential_model_to_ascii_printout"
   ]
  },
  {
   "cell_type": "code",
   "execution_count": 14,
   "metadata": {
    "collapsed": true
   },
   "outputs": [],
   "source": [
    "model = Sequential()\n",
    "\n",
    "model.add(Conv2D(16, (3, 3), activation='relu', input_shape=(256, 256, 3)))\n",
    "model.add(MaxPool2D())\n",
    "\n",
    "model.add(Conv2D(32, (3, 3), activation='relu'))\n",
    "model.add(MaxPool2D())\n",
    "\n",
    "model.add(Conv2D(64, (3, 3), activation='relu'))\n",
    "model.add(MaxPool2D())\n",
    "\n",
    "model.add(Conv2D(64, (3, 3), activation='relu'))\n",
    "model.add(MaxPool2D())\n",
    "\n",
    "model.add(Conv2D(64, (3, 3), activation='relu'))\n",
    "model.add(MaxPool2D())\n",
    "model.add(Dropout(0.25))\n",
    "\n",
    "model.add(Conv2D(64, (1, 1), activation='relu'))\n",
    "model.add(GlobalAveragePooling2D())\n",
    "model.add(Dropout(0.5))\n",
    "\n",
    "model.add(Dense(2, activation='softmax'))"
   ]
  },
  {
   "cell_type": "code",
   "execution_count": 13,
   "metadata": {},
   "outputs": [
    {
     "name": "stdout",
     "output_type": "stream",
     "text": [
      "           OPERATION           DATA DIMENSIONS   WEIGHTS(N)   WEIGHTS(%)\n",
      "\n",
      "               Input   #####    256  256    3\n",
      "              Conv2D    \\|/  -------------------       448     0.1%\n",
      "                relu   #####    254  254   16\n",
      "        MaxPooling2D   Y max -------------------         0     0.0%\n",
      "                       #####    127  127   16\n",
      "              Conv2D    \\|/  -------------------      4640     0.9%\n",
      "                relu   #####    125  125   32\n",
      "        MaxPooling2D   Y max -------------------         0     0.0%\n",
      "                       #####     62   62   32\n",
      "              Conv2D    \\|/  -------------------     18496     3.5%\n",
      "                relu   #####     60   60   64\n",
      "        MaxPooling2D   Y max -------------------         0     0.0%\n",
      "                       #####     30   30   64\n",
      "              Conv2D    \\|/  -------------------     73856    14.1%\n",
      "                relu   #####     28   28  128\n",
      "        MaxPooling2D   Y max -------------------         0     0.0%\n",
      "                       #####     14   14  128\n",
      "              Conv2D    \\|/  -------------------    295168    56.2%\n",
      "                relu   #####     12   12  256\n",
      "        MaxPooling2D   Y max -------------------         0     0.0%\n",
      "                       #####      6    6  256\n",
      "              Conv2D    \\|/  -------------------    131584    25.1%\n",
      "                relu   #####      6    6  512\n",
      "GlobalAveragePooling2D   Y^avg -------------------         0     0.0%\n",
      "                       #####         512\n",
      "               Dense   XXXXX -------------------      1026     0.2%\n",
      "             softmax   #####           2\n"
     ]
    }
   ],
   "source": [
    "sequential_model_to_ascii_printout(model)"
   ]
  },
  {
   "cell_type": "code",
   "execution_count": null,
   "metadata": {
    "collapsed": true
   },
   "outputs": [],
   "source": []
  }
 ],
 "metadata": {
  "kernelspec": {
   "display_name": "Python [default]",
   "language": "python",
   "name": "python3"
  },
  "language_info": {
   "codemirror_mode": {
    "name": "ipython",
    "version": 3
   },
   "file_extension": ".py",
   "mimetype": "text/x-python",
   "name": "python",
   "nbconvert_exporter": "python",
   "pygments_lexer": "ipython3",
   "version": "3.5.3"
  }
 },
 "nbformat": 4,
 "nbformat_minor": 2
}
